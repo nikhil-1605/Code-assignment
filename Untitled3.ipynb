{
  "nbformat": 4,
  "nbformat_minor": 0,
  "metadata": {
    "colab": {
      "provenance": [],
      "authorship_tag": "ABX9TyPOYDs92dgcU0Km/m+Kj/gD",
      "include_colab_link": true
    },
    "kernelspec": {
      "name": "python3",
      "display_name": "Python 3"
    },
    "language_info": {
      "name": "python"
    }
  },
  "cells": [
    {
      "cell_type": "markdown",
      "metadata": {
        "id": "view-in-github",
        "colab_type": "text"
      },
      "source": [
        "<a href=\"https://colab.research.google.com/github/nikhil-1605/Code-assignment/blob/main/Untitled3.ipynb\" target=\"_parent\"><img src=\"https://colab.research.google.com/assets/colab-badge.svg\" alt=\"Open In Colab\"/></a>"
      ]
    },
    {
      "cell_type": "markdown",
      "source": [
        "#***LISTS***\n",
        "\n",
        ">  a list is a built-in data type used to store a collection of items. Lists are versatile and can contain elements of different data types, including numbers, strings, and even other lists. Lists are defined by enclosing the elements in square brackets '[ ]' and separating them with commas.\n",
        "\n",
        "\n",
        "\n"
      ],
      "metadata": {
        "id": "j6rTmu7vKtA-"
      }
    },
    {
      "cell_type": "code",
      "source": [
        "l1 = list()"
      ],
      "metadata": {
        "id": "GubUVMp8HAhQ"
      },
      "execution_count": null,
      "outputs": []
    },
    {
      "cell_type": "markdown",
      "source": [
        "When you create a list in Python using l1 = list(), you are essentially creating an empty list. The list() constructor, when called with no arguments, returns a new empty list."
      ],
      "metadata": {
        "id": "18vzk6bjHdAc"
      }
    },
    {
      "cell_type": "code",
      "source": [
        "l1.append(18)"
      ],
      "metadata": {
        "id": "YWLegf7iHFc_"
      },
      "execution_count": null,
      "outputs": []
    },
    {
      "cell_type": "markdown",
      "source": [
        "The line \"l1.append(18)\" in Python adds the value 18 to the end of the list l1. The append() method is a built-in method for lists in Python, and it is used to add elements to the end of the list."
      ],
      "metadata": {
        "id": "GtMJ3GjRHsjp"
      }
    },
    {
      "cell_type": "code",
      "source": [
        "l1"
      ],
      "metadata": {
        "colab": {
          "base_uri": "https://localhost:8080/"
        },
        "id": "slgLRLZVHHOK",
        "outputId": "245562e7-94f2-4827-9627-12e2dcdede68"
      },
      "execution_count": null,
      "outputs": [
        {
          "output_type": "execute_result",
          "data": {
            "text/plain": [
              "[18]"
            ]
          },
          "metadata": {},
          "execution_count": 75
        }
      ]
    },
    {
      "cell_type": "code",
      "source": [
        "l2 = list()"
      ],
      "metadata": {
        "id": "l6dt2DAwHNW5"
      },
      "execution_count": null,
      "outputs": []
    },
    {
      "cell_type": "code",
      "source": [
        "l2.append(56)"
      ],
      "metadata": {
        "id": "uF9vpx6oHOqg"
      },
      "execution_count": null,
      "outputs": []
    },
    {
      "cell_type": "code",
      "source": [
        "l2"
      ],
      "metadata": {
        "colab": {
          "base_uri": "https://localhost:8080/"
        },
        "id": "dDRUesOQHSym",
        "outputId": "73a9a5d3-764f-40ae-a65f-9d8199e3fa9b"
      },
      "execution_count": null,
      "outputs": [
        {
          "output_type": "execute_result",
          "data": {
            "text/plain": [
              "[56]"
            ]
          },
          "metadata": {},
          "execution_count": 78
        }
      ]
    },
    {
      "cell_type": "code",
      "source": [
        "l1 = l2"
      ],
      "metadata": {
        "id": "ZFHK-p35HUV3"
      },
      "execution_count": null,
      "outputs": []
    },
    {
      "cell_type": "markdown",
      "source": [
        "The statement l1 = l2 in Python means that both l1 and l2 now refer to the same list object. This doesn't create a new list; instead, both variables point to the same list in memory. As a result, any changes made to the list through one variable will be reflected in the other, because they are essentially two references to the same underlying list."
      ],
      "metadata": {
        "id": "D6l_UeQrIR-n"
      }
    },
    {
      "cell_type": "code",
      "source": [
        "l1"
      ],
      "metadata": {
        "colab": {
          "base_uri": "https://localhost:8080/"
        },
        "id": "i5rVelvSHakH",
        "outputId": "c9f6711a-6004-4536-b6f8-6f3155b3dedd"
      },
      "execution_count": null,
      "outputs": [
        {
          "output_type": "execute_result",
          "data": {
            "text/plain": [
              "[56]"
            ]
          },
          "metadata": {},
          "execution_count": 80
        }
      ]
    },
    {
      "cell_type": "markdown",
      "source": [
        "Now if we print the elments from list 1 prints the same elements in list 2"
      ],
      "metadata": {
        "id": "ySFwmt2CIUB8"
      }
    },
    {
      "cell_type": "code",
      "source": [
        "l2.append([\"45\", \"89\"])"
      ],
      "metadata": {
        "id": "QwYem5QAHoGL"
      },
      "execution_count": null,
      "outputs": []
    },
    {
      "cell_type": "code",
      "source": [
        "l2"
      ],
      "metadata": {
        "colab": {
          "base_uri": "https://localhost:8080/"
        },
        "id": "LGHZwCPaHrmh",
        "outputId": "731ed1b4-0456-4fcb-eca7-824df343d3ab"
      },
      "execution_count": null,
      "outputs": [
        {
          "output_type": "execute_result",
          "data": {
            "text/plain": [
              "[56, ['45', '89']]"
            ]
          },
          "metadata": {},
          "execution_count": 82
        }
      ]
    },
    {
      "cell_type": "code",
      "source": [
        "c = l2.count(56)"
      ],
      "metadata": {
        "id": "qupH5qdDHuEr"
      },
      "execution_count": null,
      "outputs": []
    },
    {
      "cell_type": "markdown",
      "source": [
        "The line c = l2.count(56) in Python is using the count() method on the list l2 to count the number of occurrences of the value 56 in the list. The result is then assigned to the variable c."
      ],
      "metadata": {
        "id": "23A14WdXIrHV"
      }
    },
    {
      "cell_type": "code",
      "source": [
        "c"
      ],
      "metadata": {
        "colab": {
          "base_uri": "https://localhost:8080/"
        },
        "id": "HcbDLdtdH3O1",
        "outputId": "9cba71d9-d936-4a0c-9f6c-487b1e7876f3"
      },
      "execution_count": null,
      "outputs": [
        {
          "output_type": "execute_result",
          "data": {
            "text/plain": [
              "1"
            ]
          },
          "metadata": {},
          "execution_count": 84
        }
      ]
    },
    {
      "cell_type": "markdown",
      "source": [
        "list 2 contains 56 thats's why it assigned 1 to the variable c."
      ],
      "metadata": {
        "id": "gnj6ucGGIufP"
      }
    },
    {
      "cell_type": "code",
      "source": [
        "l1.extend([1,2,3,4,5])"
      ],
      "metadata": {
        "id": "kyUOqBjXIALD"
      },
      "execution_count": null,
      "outputs": []
    },
    {
      "cell_type": "markdown",
      "source": [
        "The line l1.extend([1, 2, 3, 4, 5]) in Python extends the list l1 by appending the elements from the iterable [1, 2, 3, 4, 5] to the end of it. The extend() method is a built-in method for lists in Python."
      ],
      "metadata": {
        "id": "KkChTH5dJbuq"
      }
    },
    {
      "cell_type": "code",
      "source": [
        "l1"
      ],
      "metadata": {
        "colab": {
          "base_uri": "https://localhost:8080/"
        },
        "id": "YDkXLriQIEDN",
        "outputId": "45cd80dd-c4e6-462b-b352-827d8896a037"
      },
      "execution_count": null,
      "outputs": [
        {
          "output_type": "execute_result",
          "data": {
            "text/plain": [
              "[56, ['45', '89'], 1, 2, 3, 4, 5]"
            ]
          },
          "metadata": {},
          "execution_count": 86
        }
      ]
    },
    {
      "cell_type": "code",
      "source": [
        "l1.extend({8,9,5,75,4,5})"
      ],
      "metadata": {
        "id": "P82MDJVmIFnQ"
      },
      "execution_count": null,
      "outputs": []
    },
    {
      "cell_type": "code",
      "source": [
        "l1"
      ],
      "metadata": {
        "colab": {
          "base_uri": "https://localhost:8080/"
        },
        "id": "OuSK7UBPIHUy",
        "outputId": "a441a710-b049-465e-ab87-a065983974a4"
      },
      "execution_count": null,
      "outputs": [
        {
          "output_type": "execute_result",
          "data": {
            "text/plain": [
              "[56, ['45', '89'], 1, 2, 3, 4, 5, 4, 5, 8, 9, 75]"
            ]
          },
          "metadata": {},
          "execution_count": 88
        }
      ]
    },
    {
      "cell_type": "code",
      "source": [
        "l1.index(5)"
      ],
      "metadata": {
        "colab": {
          "base_uri": "https://localhost:8080/"
        },
        "id": "piHcOqiPIQPI",
        "outputId": "18786485-22c5-4465-d865-c81a786cfb17"
      },
      "execution_count": null,
      "outputs": [
        {
          "output_type": "execute_result",
          "data": {
            "text/plain": [
              "6"
            ]
          },
          "metadata": {},
          "execution_count": 89
        }
      ]
    },
    {
      "cell_type": "markdown",
      "source": [
        "The line l1.index(5) in Python is using the index() method on the list l1 to find the index of the first occurrence of the value 5 in the list. The result is the index of the element 5 within the list."
      ],
      "metadata": {
        "id": "DP_8uJjcJj20"
      }
    },
    {
      "cell_type": "code",
      "source": [
        "sliced_l1 = l1[0:12]"
      ],
      "metadata": {
        "id": "DJzw0wZhIc1q"
      },
      "execution_count": null,
      "outputs": []
    },
    {
      "cell_type": "markdown",
      "source": [
        "The slice includes elements starting from index 0 up to, but not including, index 12. The general syntax for list slicing is list[start:stop]."
      ],
      "metadata": {
        "id": "0oauhLE3J1X-"
      }
    },
    {
      "cell_type": "code",
      "source": [
        "sliced_l1"
      ],
      "metadata": {
        "colab": {
          "base_uri": "https://localhost:8080/"
        },
        "id": "YhItwTstIi5S",
        "outputId": "bfad4254-1f74-4fdc-bb04-905f449ee4da"
      },
      "execution_count": null,
      "outputs": [
        {
          "output_type": "execute_result",
          "data": {
            "text/plain": [
              "[56, ['45', '89'], 1, 2, 3, 4, 5, 4, 5, 8, 9, 75]"
            ]
          },
          "metadata": {},
          "execution_count": 91
        }
      ]
    },
    {
      "cell_type": "code",
      "source": [
        "l1.insert(5,855)"
      ],
      "metadata": {
        "id": "NfBPLjsOIsAJ"
      },
      "execution_count": null,
      "outputs": []
    },
    {
      "cell_type": "markdown",
      "source": [
        "The line l1.insert(5, 855) in Python uses the insert() method on the list l1 to insert the value 855 at the specified index, which is 5 in this case. The insert() method takes two arguments: the index at which to insert the value and the value to be inserted."
      ],
      "metadata": {
        "id": "KkDHGNmeJ-Pt"
      }
    },
    {
      "cell_type": "code",
      "source": [
        "l1"
      ],
      "metadata": {
        "colab": {
          "base_uri": "https://localhost:8080/"
        },
        "id": "D38B9FDQIt9p",
        "outputId": "e48968c1-a5f2-4169-bffc-0272bad9cd56"
      },
      "execution_count": null,
      "outputs": [
        {
          "output_type": "execute_result",
          "data": {
            "text/plain": [
              "[56, ['45', '89'], 1, 2, 3, 855, 4, 5, 4, 5, 8, 9, 75]"
            ]
          },
          "metadata": {},
          "execution_count": 93
        }
      ]
    },
    {
      "cell_type": "code",
      "source": [
        "l1.pop(5)"
      ],
      "metadata": {
        "colab": {
          "base_uri": "https://localhost:8080/"
        },
        "id": "m-k-G4KVIx8K",
        "outputId": "7054650c-8962-4919-99a1-433b01a07c53"
      },
      "execution_count": null,
      "outputs": [
        {
          "output_type": "execute_result",
          "data": {
            "text/plain": [
              "855"
            ]
          },
          "metadata": {},
          "execution_count": 94
        }
      ]
    },
    {
      "cell_type": "markdown",
      "source": [
        "The line l1.pop(5) in Python uses the pop() method on the list l1 to remove and return the element at the specified index, which is 5 in this case. The pop() method modifies the original list by removing the specified element."
      ],
      "metadata": {
        "id": "fGUFokSaKEnJ"
      }
    },
    {
      "cell_type": "code",
      "source": [
        "l1.remove(75)"
      ],
      "metadata": {
        "id": "22o5PJZFI4Nr"
      },
      "execution_count": null,
      "outputs": []
    },
    {
      "cell_type": "markdown",
      "source": [
        "The line l1.remove(75) in Python uses the remove() method on the list l1 to remove the first occurrence of the specified value, which is 75 in this case. The remove() method modifies the original list by eliminating the first occurrence of the specified element."
      ],
      "metadata": {
        "id": "VNzyz8-BKSN0"
      }
    },
    {
      "cell_type": "code",
      "source": [
        "l1"
      ],
      "metadata": {
        "colab": {
          "base_uri": "https://localhost:8080/"
        },
        "id": "YIRbzBzUI8AG",
        "outputId": "d45f9718-2f52-49f9-ffbc-6b1df93ebcc1"
      },
      "execution_count": null,
      "outputs": [
        {
          "output_type": "execute_result",
          "data": {
            "text/plain": [
              "[56, ['45', '89'], 1, 2, 3, 4, 5, 4, 5, 8, 9]"
            ]
          },
          "metadata": {},
          "execution_count": 96
        }
      ]
    },
    {
      "cell_type": "code",
      "source": [
        "l1.reverse()"
      ],
      "metadata": {
        "id": "PQ5t4PYNI92y"
      },
      "execution_count": null,
      "outputs": []
    },
    {
      "cell_type": "markdown",
      "source": [
        "The line l1.reverse() in Python uses the reverse() method to reverse the elements of the list l1 in-place. After executing this line, the order of the elements in the list will be reversed."
      ],
      "metadata": {
        "id": "Pdf7SuSmKZTS"
      }
    },
    {
      "cell_type": "code",
      "source": [
        "l1"
      ],
      "metadata": {
        "colab": {
          "base_uri": "https://localhost:8080/"
        },
        "id": "6RPkrMSqI_Z8",
        "outputId": "a3abf962-e296-44f9-be03-8288e14477d9"
      },
      "execution_count": null,
      "outputs": [
        {
          "output_type": "execute_result",
          "data": {
            "text/plain": [
              "[9, 8, 5, 4, 5, 4, 3, 2, 1, ['45', '89'], 56]"
            ]
          },
          "metadata": {},
          "execution_count": 98
        }
      ]
    },
    {
      "cell_type": "code",
      "source": [
        "l1.pop(9)"
      ],
      "metadata": {
        "colab": {
          "base_uri": "https://localhost:8080/"
        },
        "id": "8_Qo3dfCJ4aV",
        "outputId": "dbda27f1-61f2-4c35-a7ca-1758f921e229"
      },
      "execution_count": null,
      "outputs": [
        {
          "output_type": "execute_result",
          "data": {
            "text/plain": [
              "['45', '89']"
            ]
          },
          "metadata": {},
          "execution_count": 99
        }
      ]
    },
    {
      "cell_type": "code",
      "source": [
        "l1.sort()"
      ],
      "metadata": {
        "id": "ATzCZKgsKAF0"
      },
      "execution_count": null,
      "outputs": []
    },
    {
      "cell_type": "markdown",
      "source": [
        "The line l1.sort() in Python uses the sort() method to sort the elements of the list l1 in ascending order. After executing this line, the elements of the list will be arranged in ascending order, and the original list is modified in place."
      ],
      "metadata": {
        "id": "DQVvuN2NKhyW"
      }
    },
    {
      "cell_type": "code",
      "source": [
        "l1"
      ],
      "metadata": {
        "colab": {
          "base_uri": "https://localhost:8080/"
        },
        "id": "zzGoGiUHKCEM",
        "outputId": "54009ae0-c8f9-4f44-cc24-267c07505a89"
      },
      "execution_count": null,
      "outputs": [
        {
          "output_type": "execute_result",
          "data": {
            "text/plain": [
              "[1, 2, 3, 4, 4, 5, 5, 8, 9, 56]"
            ]
          },
          "metadata": {},
          "execution_count": 101
        }
      ]
    },
    {
      "cell_type": "code",
      "source": [
        "l1.sort(reverse=True)"
      ],
      "metadata": {
        "id": "bOyLgC2vKIF8"
      },
      "execution_count": null,
      "outputs": []
    },
    {
      "cell_type": "code",
      "source": [
        "l1"
      ],
      "metadata": {
        "colab": {
          "base_uri": "https://localhost:8080/"
        },
        "id": "-Jzs8XadKJEL",
        "outputId": "cf49d72c-7fb6-47b7-dcf5-95f8ccd5f98f"
      },
      "execution_count": null,
      "outputs": [
        {
          "output_type": "execute_result",
          "data": {
            "text/plain": [
              "[56, 9, 8, 5, 5, 4, 4, 3, 2, 1]"
            ]
          },
          "metadata": {},
          "execution_count": 103
        }
      ]
    },
    {
      "cell_type": "code",
      "source": [
        "l1.reverse()"
      ],
      "metadata": {
        "id": "gnZ1eJGDKPrr"
      },
      "execution_count": null,
      "outputs": []
    },
    {
      "cell_type": "code",
      "source": [
        "l1"
      ],
      "metadata": {
        "colab": {
          "base_uri": "https://localhost:8080/"
        },
        "id": "RNpzBDTOKRxW",
        "outputId": "e18c7ddc-ed06-48df-8ab4-0fca9865343d"
      },
      "execution_count": null,
      "outputs": [
        {
          "output_type": "execute_result",
          "data": {
            "text/plain": [
              "[1, 2, 3, 4, 4, 5, 5, 8, 9, 56]"
            ]
          },
          "metadata": {},
          "execution_count": 105
        }
      ]
    },
    {
      "cell_type": "code",
      "source": [
        "l4 = [\"Mohit\", \"Nikhil\", \"Manas\", \"Jeetu\", \"Labeek\"]"
      ],
      "metadata": {
        "id": "-f5_Scx_KT2E"
      },
      "execution_count": null,
      "outputs": []
    },
    {
      "cell_type": "code",
      "source": [
        "l4.sort()"
      ],
      "metadata": {
        "id": "5qouvLqXKfWe"
      },
      "execution_count": null,
      "outputs": []
    },
    {
      "cell_type": "code",
      "source": [
        "l4"
      ],
      "metadata": {
        "colab": {
          "base_uri": "https://localhost:8080/"
        },
        "id": "PFjWaXkvKgwL",
        "outputId": "2f16ae45-50a0-46af-bea2-6ea44342339a"
      },
      "execution_count": null,
      "outputs": [
        {
          "output_type": "execute_result",
          "data": {
            "text/plain": [
              "['Jeetu', 'Labeek', 'Manas', 'Mohit', 'Nikhil']"
            ]
          },
          "metadata": {},
          "execution_count": 108
        }
      ]
    },
    {
      "cell_type": "markdown",
      "source": [
        "#***Dictionaries***\n",
        "\n",
        ">a dictionary is another built-in data type that allows you to store and organize data in a collection of key-value pairs. Unlike lists, which use numerical indices to access elements, dictionaries use keys for this purpose. Each key in a dictionary must be unique, and it is associated with a specific value. Dictionaries are defined using curly braces '{ }'.\n",
        "\n"
      ],
      "metadata": {
        "id": "Jny9sj26LxCA"
      }
    },
    {
      "cell_type": "markdown",
      "source": [],
      "metadata": {
        "id": "oNivClbWLw-4"
      }
    },
    {
      "cell_type": "code",
      "source": [
        "names = [\"Ramesh\", \"Mukesh\", \"Ravi\"]\n",
        "height = [789,987,654]"
      ],
      "metadata": {
        "id": "_HvJNcvDL6Ma"
      },
      "execution_count": null,
      "outputs": []
    },
    {
      "cell_type": "code",
      "source": [
        "dict(zip(names,height))"
      ],
      "metadata": {
        "colab": {
          "base_uri": "https://localhost:8080/"
        },
        "id": "mYQFNd1oL_uQ",
        "outputId": "529fb895-8f58-4cff-aaac-8ebf1c753732"
      },
      "execution_count": null,
      "outputs": [
        {
          "output_type": "execute_result",
          "data": {
            "text/plain": [
              "{'Ramesh': 789, 'Mukesh': 987, 'Ravi': 654}"
            ]
          },
          "metadata": {},
          "execution_count": 121
        }
      ]
    },
    {
      "cell_type": "markdown",
      "source": [
        "The expression dict(zip(names, height)) in Python creates a dictionary by zipping together the \"names\" list and the \"height\" list, and then converting the resulting pairs into key-value pairs within a dictionary."
      ],
      "metadata": {
        "id": "IaDVdqq9K5Sz"
      }
    },
    {
      "cell_type": "code",
      "source": [
        "for i,j in zip([\"Ramesh\",\"Suresh\"],[456,987]):\n",
        "\n",
        "  print(i,j)"
      ],
      "metadata": {
        "colab": {
          "base_uri": "https://localhost:8080/"
        },
        "id": "3IxA7Ew1PIuN",
        "outputId": "03385ea2-43a2-45be-f3f9-bbe2768fd4dd"
      },
      "execution_count": null,
      "outputs": [
        {
          "output_type": "stream",
          "name": "stdout",
          "text": [
            "Ramesh 456\n",
            "Suresh 987\n"
          ]
        }
      ]
    },
    {
      "cell_type": "markdown",
      "source": [
        "It pairs elements from the first list with elements from the second list and then iterates through these pairs using a for loop. In each iteration, it prints the current pair (i, j) where i is an element from the first list and j is the corresponding element from the second list."
      ],
      "metadata": {
        "id": "080uYoV_LbVb"
      }
    },
    {
      "cell_type": "code",
      "source": [
        "l = [i for i in range(0,10)]"
      ],
      "metadata": {
        "id": "vRe5h3W_PRz-"
      },
      "execution_count": null,
      "outputs": []
    },
    {
      "cell_type": "markdown",
      "source": [
        "it uses a list comprehension to create a list l that contains the values of i for each element in the range from 0 to 9 (10 is excluded). It is equivalent to using a loop to iterate over the range and appending each element to the list.\n",
        "\n",
        "After executing this line, the list l will contain the values [0, 1, 2, 3, 4, 5, 6, 7, 8, 9]."
      ],
      "metadata": {
        "id": "a58L3EW7Ll52"
      }
    },
    {
      "cell_type": "code",
      "source": [
        "l"
      ],
      "metadata": {
        "colab": {
          "base_uri": "https://localhost:8080/"
        },
        "id": "EQ4-GaXrPS6v",
        "outputId": "c90171b0-8ced-4800-f013-cbb70b689c3a"
      },
      "execution_count": null,
      "outputs": [
        {
          "output_type": "execute_result",
          "data": {
            "text/plain": [
              "[0, 1, 2, 3, 4, 5, 6, 7, 8, 9]"
            ]
          },
          "metadata": {},
          "execution_count": 124
        }
      ]
    },
    {
      "cell_type": "code",
      "source": [
        "l = [i for i in range(0,10) if i % 2 == 0]"
      ],
      "metadata": {
        "id": "RBlRaV5zPcXK"
      },
      "execution_count": null,
      "outputs": []
    },
    {
      "cell_type": "code",
      "source": [
        "l"
      ],
      "metadata": {
        "colab": {
          "base_uri": "https://localhost:8080/"
        },
        "id": "8_8l3ZMwPd8c",
        "outputId": "f621ad8a-2b4a-4dcd-cb46-020a320022ba"
      },
      "execution_count": null,
      "outputs": [
        {
          "output_type": "execute_result",
          "data": {
            "text/plain": [
              "[0, 2, 4, 6, 8]"
            ]
          },
          "metadata": {},
          "execution_count": 126
        }
      ]
    },
    {
      "cell_type": "code",
      "source": [
        "import random"
      ],
      "metadata": {
        "id": "Hg5RXokePpDR"
      },
      "execution_count": null,
      "outputs": []
    },
    {
      "cell_type": "markdown",
      "source": [
        "The statement import random in Python imports the random module, which provides functions for generating pseudo-random numbers. This module is commonly used for tasks that involve randomness, such as simulations, games, and cryptographic applications."
      ],
      "metadata": {
        "id": "x96LROmgLzP1"
      }
    },
    {
      "cell_type": "code",
      "source": [
        "mapping_dict = dict(zip(range(0,10),range(0,10)))"
      ],
      "metadata": {
        "id": "Edq9Fh9gPtB4"
      },
      "execution_count": null,
      "outputs": []
    },
    {
      "cell_type": "markdown",
      "source": [
        " it creates a dictionary by pairing each element from the range 0 to 9 with the corresponding element from the same range and then converting these pairs into key-value pairs within a dictionary."
      ],
      "metadata": {
        "id": "ycSHj1YLL9yP"
      }
    },
    {
      "cell_type": "code",
      "source": [
        "mapping_dict.keys()"
      ],
      "metadata": {
        "colab": {
          "base_uri": "https://localhost:8080/"
        },
        "id": "lmVCosxtPwRZ",
        "outputId": "16cf5eeb-4404-44a8-9cae-c66f3017ff17"
      },
      "execution_count": null,
      "outputs": [
        {
          "output_type": "execute_result",
          "data": {
            "text/plain": [
              "dict_keys([0, 1, 2, 3, 4, 5, 6, 7, 8, 9])"
            ]
          },
          "metadata": {},
          "execution_count": 129
        }
      ]
    },
    {
      "cell_type": "code",
      "source": [
        "reverse_mapping_dict = dict()\n",
        "for k in mapping_dict.keys():\n",
        "  reverse_mapping_dict[mapping_dict[k]] = k"
      ],
      "metadata": {
        "id": "SowVC7cZQrFf"
      },
      "execution_count": null,
      "outputs": []
    },
    {
      "cell_type": "markdown",
      "source": [
        "mapping_dict has keys 'a', 'b', 'c' with corresponding values 1, 2, 3. The reverse_mapping_dict is created such that the values become keys and the keys become values. So, 1: 'a', 2: 'b', 3: 'c'.\n",
        "\n",
        "This kind of operation is useful when you have a mapping and you want to quickly look up values based on keys (as in mapping_dict) or keys based on values (as in reverse_mapping_dict)."
      ],
      "metadata": {
        "id": "XrXjHFZuMMTz"
      }
    },
    {
      "cell_type": "code",
      "source": [
        "reverse_mapping_dict"
      ],
      "metadata": {
        "colab": {
          "base_uri": "https://localhost:8080/"
        },
        "id": "JX_YbXycQv0g",
        "outputId": "d6bf9190-166c-4eaa-a5a0-e2c33f203714"
      },
      "execution_count": null,
      "outputs": [
        {
          "output_type": "execute_result",
          "data": {
            "text/plain": [
              "{'0': 0,\n",
              " '1': 1,\n",
              " '2': 2,\n",
              " '3': 3,\n",
              " '4': 4,\n",
              " '5': 5,\n",
              " '6': 6,\n",
              " '7': 7,\n",
              " '8': 8,\n",
              " '9': 9}"
            ]
          },
          "metadata": {},
          "execution_count": 135
        }
      ]
    },
    {
      "cell_type": "markdown",
      "source": [
        "#***MATPLOTLIB***\n",
        "\n",
        ">Matplotlib is a comprehensive library for creating static, animated, and interactive visualizations in Python. It is a widely used data visualization library and is especially popular for creating 2D and basic 3D plots. Matplotlib is highly customizable and supports a variety of plot types, including line plots, scatter plots, bar plots, histograms, pie charts, and more.\n",
        "\n"
      ],
      "metadata": {
        "id": "xYL97IIRMaXd"
      }
    },
    {
      "cell_type": "code",
      "execution_count": null,
      "metadata": {
        "id": "HXyQVjn5VCFT"
      },
      "outputs": [],
      "source": [
        "import random\n",
        "import matplotlib.pyplot as plt"
      ]
    },
    {
      "cell_type": "markdown",
      "source": [
        "The line import matplotlib.pyplot as plt is a common import statement used when working with the matplotlib library in Python. This import statement imports the pyplot module from the matplotlib library and assigns it the alias plt. Using the alias plt is a common convention and makes it more convenient to refer to pyplot functions."
      ],
      "metadata": {
        "id": "h0z-ggJyNqLz"
      }
    },
    {
      "cell_type": "code",
      "source": [
        "mapping_dict = dict(zip(range(0,10),range(0,10)))"
      ],
      "metadata": {
        "id": "m2kHPA-bEKZ8"
      },
      "execution_count": null,
      "outputs": []
    },
    {
      "cell_type": "code",
      "source": [
        "mapping_dict"
      ],
      "metadata": {
        "colab": {
          "base_uri": "https://localhost:8080/"
        },
        "id": "8kBzQ0dCEPJT",
        "outputId": "7177358c-9038-4ce0-e440-215784c973c8"
      },
      "execution_count": null,
      "outputs": [
        {
          "output_type": "execute_result",
          "data": {
            "text/plain": [
              "{0: 0, 1: 1, 2: 2, 3: 3, 4: 4, 5: 5, 6: 6, 7: 7, 8: 8, 9: 9}"
            ]
          },
          "metadata": {},
          "execution_count": 111
        }
      ]
    },
    {
      "cell_type": "code",
      "source": [
        "for k in mapping_dict.keys():\n",
        "\n",
        "  mapping_dict[k] = str(mapping_dict[k])"
      ],
      "metadata": {
        "id": "Xmak4-JuEQxD"
      },
      "execution_count": null,
      "outputs": []
    },
    {
      "cell_type": "code",
      "source": [
        "mapping_dict"
      ],
      "metadata": {
        "colab": {
          "base_uri": "https://localhost:8080/"
        },
        "id": "2y5cwQ-EEYXr",
        "outputId": "a8fa9c3a-94f1-42fe-9f0d-0e1d643fc4d8"
      },
      "execution_count": null,
      "outputs": [
        {
          "output_type": "execute_result",
          "data": {
            "text/plain": [
              "{0: '0',\n",
              " 1: '1',\n",
              " 2: '2',\n",
              " 3: '3',\n",
              " 4: '4',\n",
              " 5: '5',\n",
              " 6: '6',\n",
              " 7: '7',\n",
              " 8: '8',\n",
              " 9: '9'}"
            ]
          },
          "metadata": {},
          "execution_count": 113
        }
      ]
    },
    {
      "cell_type": "code",
      "source": [
        "for i in range(0,26):\n",
        "  mapping_dict[10+i] = chr(65+i)"
      ],
      "metadata": {
        "id": "47M_OOVpEbvm"
      },
      "execution_count": null,
      "outputs": []
    },
    {
      "cell_type": "code",
      "source": [
        "mapping_dict"
      ],
      "metadata": {
        "colab": {
          "base_uri": "https://localhost:8080/"
        },
        "id": "83yvKecqEdYr",
        "outputId": "f5a817c9-5b0a-461d-9714-9f102d667e74"
      },
      "execution_count": null,
      "outputs": [
        {
          "output_type": "execute_result",
          "data": {
            "text/plain": [
              "{0: '0',\n",
              " 1: '1',\n",
              " 2: '2',\n",
              " 3: '3',\n",
              " 4: '4',\n",
              " 5: '5',\n",
              " 6: '6',\n",
              " 7: '7',\n",
              " 8: '8',\n",
              " 9: '9',\n",
              " 10: 'A',\n",
              " 11: 'B',\n",
              " 12: 'C',\n",
              " 13: 'D',\n",
              " 14: 'E',\n",
              " 15: 'F',\n",
              " 16: 'G',\n",
              " 17: 'H',\n",
              " 18: 'I',\n",
              " 19: 'J',\n",
              " 20: 'K',\n",
              " 21: 'L',\n",
              " 22: 'M',\n",
              " 23: 'N',\n",
              " 24: 'O',\n",
              " 25: 'P',\n",
              " 26: 'Q',\n",
              " 27: 'R',\n",
              " 28: 'S',\n",
              " 29: 'T',\n",
              " 30: 'U',\n",
              " 31: 'V',\n",
              " 32: 'W',\n",
              " 33: 'X',\n",
              " 34: 'Y',\n",
              " 35: 'Z'}"
            ]
          },
          "metadata": {},
          "execution_count": 115
        }
      ]
    },
    {
      "cell_type": "code",
      "source": [
        "sample_size = 500000\n",
        "\n",
        "random_numbers = list()\n",
        "\n",
        "for i in range(0,sample_size):\n",
        "\n",
        "  blank_str = str()\n",
        "\n",
        "  random_digit = random.randint(0,35)\n",
        "  blank_str = blank_str + mapping_dict[random_digit]\n",
        "\n",
        "  random_digit = random.randint(0,35)\n",
        "  blank_str = blank_str + mapping_dict[random_digit]\n",
        "\n",
        "  for i in range(0,8):\n",
        "    coin_toss = random.randint(0,1)\n",
        "\n",
        "    if coin_toss == 1:\n",
        "\n",
        "      random_digit = random.randint(0,35)\n",
        "      blank_str = blank_str + mapping_dict[random_digit]\n",
        "\n",
        "    else:\n",
        "      break\n",
        "\n",
        "  random_numbers.append(blank_str)"
      ],
      "metadata": {
        "id": "uDxeQeg4Eg38"
      },
      "execution_count": null,
      "outputs": []
    },
    {
      "cell_type": "markdown",
      "source": [
        "'sample_size' determines how many random strings you want to generate.\n",
        "mapping_dict is assumed to be a dictionary mapping integers from 0 to 35 to corresponding characters.\n",
        "\n",
        "A random string is generated for each iteration of the outer loop. It starts with two characters based on random integers from 0 to 35, and then up to 8 more characters are added based on coin tosses (where heads means adding a character and tails means stopping).\n",
        "Each string is appended to the random_numbers list.\n",
        "\n",
        "Make sure that 'mapping_dict' is defined appropriately in your code, as it's crucial for understanding the mapping between random integers and characters in your generated strings."
      ],
      "metadata": {
        "id": "CuGA-cJ_N8xE"
      }
    },
    {
      "cell_type": "code",
      "source": [
        "reverse_mapping_dict = dict()\n",
        "\n",
        "for k in mapping_dict.keys():\n",
        "  reverse_mapping_dict[mapping_dict[k]] = k"
      ],
      "metadata": {
        "id": "iJ41eN-ZExk4"
      },
      "execution_count": null,
      "outputs": []
    },
    {
      "cell_type": "markdown",
      "source": [
        "'mapping_dict' is assumed to be a dictionary mapping integers from 0 to 35 to corresponding characters.\n",
        "\n",
        "The 'reverse_mapping_dict' is created by iterating over the keys of 'mapping_dict'. For each key, it adds a new entry to reverse_mapping_dict with the value from 'mapping_dict' as the key and the original key as the value.\n",
        "\n",
        "After running this code, reverse_mapping_dict will be a dictionary where the keys are characters (values from mapping_dict), and the values are the corresponding integers (original keys from mapping_dict).\n",
        "\n",
        "It's essentially creating a mapping that allows you to look up the original key based on the character. Keep in mind that this assumes the values in mapping_dict are unique; otherwise, the reverse mapping might not be accurate."
      ],
      "metadata": {
        "id": "qvZCjERMOqyD"
      }
    },
    {
      "cell_type": "code",
      "source": [
        "base_frequency = dict()\n",
        "\n",
        "for blank_str in random_numbers:\n",
        "  highest_digit = max(blank_str)\n",
        "  highest_base = reverse_mapping_dict[highest_digit] + 1\n",
        "\n",
        "  if highest_base in base_frequency.keys():\n",
        "    base_frequency[highest_base] += (1/sample_size)\n",
        "  else:\n",
        "    base_frequency[highest_base] = (1/sample_size)"
      ],
      "metadata": {
        "id": "QwWjGH_JE2Rm"
      },
      "execution_count": null,
      "outputs": []
    },
    {
      "cell_type": "markdown",
      "source": [
        "highest_digit is calculated as the maximum character in the current blank_str.\n",
        "highest_base is then determined by looking up the highest_digit in the reverse_mapping_dict and adding 1.\n",
        "\n",
        "The code updates the base_frequency dictionary. If highest_base is already a key in the dictionary, it increments its value by (1 / sample_size); otherwise, it adds a new entry with a value of (1 / sample_size).\n",
        "\n",
        "This code seems to be collecting statistics on the highest base used in each random string and updating the frequency of each base in the base_frequency dictionary. It assumes that the characters in the strings correspond to some mapping, and the highest character represents the base used in the encoding.\n",
        "\n",
        "\n",
        "\n",
        "\n",
        "\n"
      ],
      "metadata": {
        "id": "0aLciHL8O3WR"
      }
    },
    {
      "cell_type": "code",
      "source": [
        "plt.bar(x=base_frequency.keys(),height=base_frequency.values())"
      ],
      "metadata": {
        "colab": {
          "base_uri": "https://localhost:8080/",
          "height": 447
        },
        "id": "AcVNLy93E7IE",
        "outputId": "a44811ad-9029-4833-d044-1c6001a62a72"
      },
      "execution_count": null,
      "outputs": [
        {
          "output_type": "execute_result",
          "data": {
            "text/plain": [
              "<BarContainer object of 36 artists>"
            ]
          },
          "metadata": {},
          "execution_count": 119
        },
        {
          "output_type": "display_data",
          "data": {
            "text/plain": [
              "<Figure size 640x480 with 1 Axes>"
            ],
            "image/png": "[encoded data removed]"
          },
          "metadata": {}
        }
      ]
    },
    {
      "cell_type": "markdown",
      "source": [
        "The code plt.bar(x=base_frequency.keys(), height=base_frequency.values()) uses the matplotlib.pyplot library to create a bar chart. It uses the keys from the base_frequency dictionary as the x-axis values and the corresponding values as the heights of the bars."
      ],
      "metadata": {
        "id": "TLxztGpHPEm3"
      }
    }
  ]
}